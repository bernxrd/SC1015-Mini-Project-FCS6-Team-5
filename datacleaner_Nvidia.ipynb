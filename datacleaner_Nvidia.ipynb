{
 "cells": [
  {
   "cell_type": "code",
   "execution_count": 1,
   "metadata": {},
   "outputs": [
    {
     "data": {
      "text/html": [
       "<div>\n",
       "<style scoped>\n",
       "    .dataframe tbody tr th:only-of-type {\n",
       "        vertical-align: middle;\n",
       "    }\n",
       "\n",
       "    .dataframe tbody tr th {\n",
       "        vertical-align: top;\n",
       "    }\n",
       "\n",
       "    .dataframe thead th {\n",
       "        text-align: right;\n",
       "    }\n",
       "</style>\n",
       "<table border=\"1\" class=\"dataframe\">\n",
       "  <thead>\n",
       "    <tr style=\"text-align: right;\">\n",
       "      <th></th>\n",
       "      <th>Generation</th>\n",
       "      <th>Product Name</th>\n",
       "      <th>GPU URL</th>\n",
       "      <th>GPU Chip</th>\n",
       "      <th>Chip URL</th>\n",
       "      <th>Released</th>\n",
       "      <th>Bus</th>\n",
       "      <th>Memory</th>\n",
       "      <th>GPU clock</th>\n",
       "      <th>Memory clock</th>\n",
       "      <th>Shaders / TMUs / ROPs</th>\n",
       "    </tr>\n",
       "  </thead>\n",
       "  <tbody>\n",
       "    <tr>\n",
       "      <th>0</th>\n",
       "      <td>GeForce 100</td>\n",
       "      <td>GeForce G100 OEM</td>\n",
       "      <td>https://www.techpowerup.com/gpu-specs/geforce-...</td>\n",
       "      <td>G98S</td>\n",
       "      <td>https://www.techpowerup.com/gpu-specs/nvidia-g...</td>\n",
       "      <td>Mar 10th, 2009</td>\n",
       "      <td>PCIe 2.0 x16</td>\n",
       "      <td>256 MB, DDR2, 64 bit</td>\n",
       "      <td>540 MHz</td>\n",
       "      <td>400 MHz</td>\n",
       "      <td>2004-04-08 00:00:00</td>\n",
       "    </tr>\n",
       "    <tr>\n",
       "      <th>1</th>\n",
       "      <td>GeForce 100</td>\n",
       "      <td>GeForce GT 120 OEM</td>\n",
       "      <td>https://www.techpowerup.com/gpu-specs/geforce-...</td>\n",
       "      <td>G96C</td>\n",
       "      <td>https://www.techpowerup.com/gpu-specs/nvidia-g...</td>\n",
       "      <td>Mar 10th, 2009</td>\n",
       "      <td>PCIe 2.0 x16</td>\n",
       "      <td>512 MB, DDR2, 128 bit</td>\n",
       "      <td>738 MHz</td>\n",
       "      <td>504 MHz</td>\n",
       "      <td>32 / 16 / 8</td>\n",
       "    </tr>\n",
       "    <tr>\n",
       "      <th>2</th>\n",
       "      <td>GeForce 100</td>\n",
       "      <td>GeForce GT 120 Mac Edition</td>\n",
       "      <td>https://www.techpowerup.com/gpu-specs/geforce-...</td>\n",
       "      <td>G96C</td>\n",
       "      <td>https://www.techpowerup.com/gpu-specs/nvidia-g...</td>\n",
       "      <td>Jan 20th, 2009</td>\n",
       "      <td>PCIe 2.0 x16</td>\n",
       "      <td>512 MB, GDDR3, 128 bit</td>\n",
       "      <td>550 MHz</td>\n",
       "      <td>800 MHz</td>\n",
       "      <td>32 / 16 / 8</td>\n",
       "    </tr>\n",
       "    <tr>\n",
       "      <th>3</th>\n",
       "      <td>GeForce 100</td>\n",
       "      <td>GeForce GT 130 OEM</td>\n",
       "      <td>https://www.techpowerup.com/gpu-specs/geforce-...</td>\n",
       "      <td>G94B</td>\n",
       "      <td>https://www.techpowerup.com/gpu-specs/nvidia-g...</td>\n",
       "      <td>Mar 10th, 2009</td>\n",
       "      <td>PCIe 2.0 x16</td>\n",
       "      <td>512 MB, DDR2, 192 bit</td>\n",
       "      <td>500 MHz</td>\n",
       "      <td>500 MHz</td>\n",
       "      <td>48 / 24 / 12</td>\n",
       "    </tr>\n",
       "    <tr>\n",
       "      <th>4</th>\n",
       "      <td>GeForce 100</td>\n",
       "      <td>GeForce GT 130 Mac Edition</td>\n",
       "      <td>https://www.techpowerup.com/gpu-specs/geforce-...</td>\n",
       "      <td>G94B</td>\n",
       "      <td>https://www.techpowerup.com/gpu-specs/nvidia-g...</td>\n",
       "      <td>Dec 12th, 2008</td>\n",
       "      <td>PCIe 2.0 x16</td>\n",
       "      <td>512 MB, GDDR3, 192 bit</td>\n",
       "      <td>600 MHz</td>\n",
       "      <td>792 MHz</td>\n",
       "      <td>48 / 24 / 12</td>\n",
       "    </tr>\n",
       "  </tbody>\n",
       "</table>\n",
       "</div>"
      ],
      "text/plain": [
       "    Generation                Product Name  \\\n",
       "0  GeForce 100            GeForce G100 OEM   \n",
       "1  GeForce 100          GeForce GT 120 OEM   \n",
       "2  GeForce 100  GeForce GT 120 Mac Edition   \n",
       "3  GeForce 100          GeForce GT 130 OEM   \n",
       "4  GeForce 100  GeForce GT 130 Mac Edition   \n",
       "\n",
       "                                             GPU URL GPU Chip  \\\n",
       "0  https://www.techpowerup.com/gpu-specs/geforce-...     G98S   \n",
       "1  https://www.techpowerup.com/gpu-specs/geforce-...     G96C   \n",
       "2  https://www.techpowerup.com/gpu-specs/geforce-...     G96C   \n",
       "3  https://www.techpowerup.com/gpu-specs/geforce-...     G94B   \n",
       "4  https://www.techpowerup.com/gpu-specs/geforce-...     G94B   \n",
       "\n",
       "                                            Chip URL        Released  \\\n",
       "0  https://www.techpowerup.com/gpu-specs/nvidia-g...  Mar 10th, 2009   \n",
       "1  https://www.techpowerup.com/gpu-specs/nvidia-g...  Mar 10th, 2009   \n",
       "2  https://www.techpowerup.com/gpu-specs/nvidia-g...  Jan 20th, 2009   \n",
       "3  https://www.techpowerup.com/gpu-specs/nvidia-g...  Mar 10th, 2009   \n",
       "4  https://www.techpowerup.com/gpu-specs/nvidia-g...  Dec 12th, 2008   \n",
       "\n",
       "            Bus                  Memory GPU clock Memory clock  \\\n",
       "0  PCIe 2.0 x16    256 MB, DDR2, 64 bit   540 MHz      400 MHz   \n",
       "1  PCIe 2.0 x16   512 MB, DDR2, 128 bit   738 MHz      504 MHz   \n",
       "2  PCIe 2.0 x16  512 MB, GDDR3, 128 bit   550 MHz      800 MHz   \n",
       "3  PCIe 2.0 x16   512 MB, DDR2, 192 bit   500 MHz      500 MHz   \n",
       "4  PCIe 2.0 x16  512 MB, GDDR3, 192 bit   600 MHz      792 MHz   \n",
       "\n",
       "  Shaders / TMUs / ROPs  \n",
       "0   2004-04-08 00:00:00  \n",
       "1           32 / 16 / 8  \n",
       "2           32 / 16 / 8  \n",
       "3          48 / 24 / 12  \n",
       "4          48 / 24 / 12  "
      ]
     },
     "execution_count": 1,
     "metadata": {},
     "output_type": "execute_result"
    }
   ],
   "source": [
    "import pandas as pd\n",
    "\n",
    "# Load the Excel file to see its content and structure\n",
    "file_path = r\"C:\\Users\\raysh\\OneDrive - Nanyang Technological University\\Year 1 Sem 2\\SC1015 Intro to Data Sci and AI\\Mini Project\\GPU Dataset-Nvidia.xlsm\"\n",
    "gpu_data = pd.read_excel(file_path)\n",
    "\n",
    "# Display the first few rows of the dataframe to understand its structure\n",
    "gpu_data.head()\n"
   ]
  },
  {
   "cell_type": "code",
   "execution_count": 2,
   "metadata": {},
   "outputs": [],
   "source": [
    "\n",
    "from bs4 import BeautifulSoup\n",
    "import requests\n",
    "import time \n",
    "import random"
   ]
  },
  {
   "cell_type": "markdown",
   "metadata": {},
   "source": [
    "### Define a function to scrape for the GPU Chip"
   ]
  },
  {
   "cell_type": "code",
   "execution_count": 3,
   "metadata": {},
   "outputs": [],
   "source": [
    "def scrape_gpu__chip_details(url):\n",
    "    try:\n",
    "        response = requests.get(url)\n",
    "        soup = BeautifulSoup(response.content, 'html.parser')\n",
    "\n",
    "        chip_details = {\n",
    "            \"Architecture\": \"\",\n",
    "            \"Foundry\": \"\",\n",
    "            \"Process Size\": \"\",\n",
    "            \"Transistors\": \"\",\n",
    "            \"Density\": \"\",\n",
    "            \"Die Size\": \"\",\n",
    "            \"DirectX\": \"\",\n",
    "            \"OpenGL\": \"\",\n",
    "            \"OpenCL\": \"\",\n",
    "            \"Vulkan\": \"\",\n",
    "            \"Shader Model\": \"\",\n",
    "            \"WDDM\": \"\",\n",
    "            \"Tensor Cores\": \"\",\n",
    "            \"RT Cores\": \"\",\n",
    "            \"Shading Units\": \"\",\n",
    "            \"TMUs\": \"\",\n",
    "            \"ROPs\": \"\",\n",
    "            \"SM Count\": \"\",\n",
    "            \"L0 Cache\": \"\",\n",
    "            \"L1 Cache\": \"\",\n",
    "            \"L2 Cache\": \"\",\n",
    "            \"L3 Cache\": \"\",\n",
    "            \"Max. TDP\": \"\"\n",
    "        }\n",
    "        \n",
    "        # Extracting information based on the HTML structure\n",
    "        for key in chip_details.keys():\n",
    "            detail = soup.find(\"dt\", text=lambda x: x and x.strip() == key)\n",
    "            if detail and detail.find_next_sibling(\"dd\"):\n",
    "                chip_details[key] = detail.find_next_sibling(\"dd\").text.strip()\n",
    "        \n",
    "        print(chip_details)\n",
    "        return chip_details\n",
    "    \n",
    "    except Exception as e:\n",
    "        print(f\"Error scraping {url}: {e}\")\n",
    "        return {key: \"\" for key in chip_details.keys()}\n"
   ]
  },
  {
   "cell_type": "markdown",
   "metadata": {},
   "source": [
    "### Define a function to scrape the GPU perf"
   ]
  },
  {
   "cell_type": "code",
   "execution_count": 4,
   "metadata": {},
   "outputs": [],
   "source": [
    "def scrape_gpu__perf_details(url):\n",
    "    try:\n",
    "        response = requests.get(url)\n",
    "        soup = BeautifulSoup(response.content, 'html.parser')\n",
    "\n",
    "        gpu_details = {\n",
    "            \"Pixel Rate\": \"\",\n",
    "            \"Texture Rate\": \"\",\n",
    "            \"FP16 (half)\": \"\",\n",
    "            \"FP32 (float)\": \"\",\n",
    "            \"FP64 (double)\": \"\"\n",
    "        }\n",
    "        \n",
    "        # Extracting information based on the HTML structure\n",
    "        for key in gpu_details.keys():\n",
    "            detail = soup.find(\"dt\", text=lambda x: x and x.strip() == key)\n",
    "            if detail and detail.find_next_sibling(\"dd\"):\n",
    "                gpu_details[key] = detail.find_next_sibling(\"dd\").text.strip()\n",
    "        \n",
    "        print(gpu_details)\n",
    "        return gpu_details\n",
    "    \n",
    "    except Exception as e:\n",
    "        print(f\"Error scraping {url}: {e}\")\n",
    "        return {key: \"\" for key in gpu_details.keys()}\n"
   ]
  },
  {
   "cell_type": "markdown",
   "metadata": {},
   "source": [
    "### PROOF OF CONCEPT\n"
   ]
  },
  {
   "cell_type": "code",
   "execution_count": 22,
   "metadata": {},
   "outputs": [
    {
     "name": "stderr",
     "output_type": "stream",
     "text": [
      "C:\\Users\\raysh\\AppData\\Local\\Temp\\ipykernel_26076\\904242948.py:34: DeprecationWarning: The 'text' argument to find()-type methods is deprecated. Use 'string' instead.\n",
      "  detail = soup.find(\"dt\", text=lambda x: x and x.strip() == key)\n"
     ]
    },
    {
     "name": "stdout",
     "output_type": "stream",
     "text": [
      "{'Architecture': '', 'Foundry': '', 'Process Size': '', 'Transistors': '', 'Density': '', 'Die Size': '', 'DirectX': '', 'OpenGL': '', 'OpenCL': '', 'Vulkan': '', 'Shader Model': '', 'WDDM': '', 'Tensor Cores': '', 'RT Cores': '', 'Shading Units': '', 'TMUs': '', 'ROPs': '', 'SM Count': '', 'L0 Cache': '', 'L1 Cache': '', 'L2 Cache': '', 'L3 Cache': '', 'Max. TDP': ''}\n",
      "{'Pixel Rate': '', 'Texture Rate': '', 'FP16 (half)': '', 'FP32 (float)': '', 'FP64 (double)': ''}\n"
     ]
    },
    {
     "name": "stderr",
     "output_type": "stream",
     "text": [
      "C:\\Users\\raysh\\AppData\\Local\\Temp\\ipykernel_26076\\1156731775.py:16: DeprecationWarning: The 'text' argument to find()-type methods is deprecated. Use 'string' instead.\n",
      "  detail = soup.find(\"dt\", text=lambda x: x and x.strip() == key)\n"
     ]
    },
    {
     "ename": "SystemExit",
     "evalue": "Stopping execution of this cell.",
     "output_type": "error",
     "traceback": [
      "An exception has occurred, use %tb to see the full traceback.\n",
      "\u001b[1;31mSystemExit\u001b[0m\u001b[1;31m:\u001b[0m Stopping execution of this cell.\n"
     ]
    }
   ],
   "source": [
    "\n",
    "# Display the first few rows of the dataframe to understand its structure\n",
    "gpu_data.head()\n",
    "\n",
    "\n",
    "# Iterate over the DataFrame and scrape details for each GPU\n",
    "chip_url = 'https://www.techpowerup.com/gpu-specs/nvidia-g98s.g146'\n",
    "gpu_url = 'https://www.techpowerup.com/gpu-specs/geforce-g100-oem.c639'\n",
    "chip_details = scrape_gpu__chip_details(chip_url)\n",
    "gpu_details = scrape_gpu__perf_details(gpu_url)\n",
    "if not chip_details[\"Architecture\"]: # check f the HTTP req failed\n",
    "    raise SystemExit(\"Stopping execution of this cell.\")\n",
    "    \n",
    "if not gpu_details[\"Pixel Rate\"]: # check f the HTTP req failed\n",
    "    raise SystemExit(\"Stopping execution of this cell.\")\n",
    "    \n",
    "for key, value in chip_details.items():\n",
    "    gpu_data.at[0, key] = value\n",
    "for key, value in gpu_details.items():\n",
    "    gpu_data.at[0, key] = value\n",
    "\n",
    "# Save the updated DataFrame to a new Excel file\n",
    "updated_file_path = 'Updated_GPU_Dataset_test.xlsx'\n",
    "gpu_data.to_excel(updated_file_path, index=False)\n",
    "\n",
    "print(f\"Updated dataset saved to {updated_file_path}\")"
   ]
  },
  {
   "cell_type": "markdown",
   "metadata": {},
   "source": [
    "### ACTUAL CODE\n"
   ]
  },
  {
   "cell_type": "code",
   "execution_count": 6,
   "metadata": {},
   "outputs": [],
   "source": [
    "\n",
    "iteration = 0\n",
    "start_index = 0\n"
   ]
  },
  {
   "cell_type": "code",
   "execution_count": 24,
   "metadata": {},
   "outputs": [
    {
     "name": "stdout",
     "output_type": "stream",
     "text": [
      "the start iteration is 261\n",
      "the start index is 261\n",
      "the iteration is 262\n"
     ]
    },
    {
     "name": "stderr",
     "output_type": "stream",
     "text": [
      "C:\\Users\\raysh\\AppData\\Local\\Temp\\ipykernel_26076\\904242948.py:34: DeprecationWarning: The 'text' argument to find()-type methods is deprecated. Use 'string' instead.\n",
      "  detail = soup.find(\"dt\", text=lambda x: x and x.strip() == key)\n"
     ]
    },
    {
     "name": "stdout",
     "output_type": "stream",
     "text": [
      "{'Architecture': 'Ada Lovelace', 'Foundry': 'TSMC', 'Process Size': '5 nm', 'Transistors': '18,900 million', 'Density': '118.9M / mm²', 'Die Size': '159 mm²', 'DirectX': '12 Ultimate (12_2)', 'OpenGL': '4.6', 'OpenCL': '3.0', 'Vulkan': '1.3', 'Shader Model': '6.7', 'WDDM': '3.1', 'Tensor Cores': '4th Gen', 'RT Cores': '3rd Gen', 'Shading Units': '3072', 'TMUs': '96', 'ROPs': '48', 'SM Count': '24', 'L0 Cache': '', 'L1 Cache': '128 KB per SM', 'L2 Cache': '32768 KB', 'L3 Cache': '', 'Max. TDP': '150 W'}\n"
     ]
    },
    {
     "name": "stderr",
     "output_type": "stream",
     "text": [
      "C:\\Users\\raysh\\AppData\\Local\\Temp\\ipykernel_26076\\1156731775.py:16: DeprecationWarning: The 'text' argument to find()-type methods is deprecated. Use 'string' instead.\n",
      "  detail = soup.find(\"dt\", text=lambda x: x and x.strip() == key)\n"
     ]
    },
    {
     "name": "stdout",
     "output_type": "stream",
     "text": [
      "{'Pixel Rate': '118.1 GPixel/s', 'Texture Rate': '236.2 GTexel/s', 'FP16 (half)': '15.11 TFLOPS (1:1)', 'FP32 (float)': '15.11 TFLOPS', 'FP64 (double)': '236.2 GFLOPS (1:64)'}\n",
      "the iteration is 263\n",
      "{'Architecture': 'Ada Lovelace', 'Foundry': 'TSMC', 'Process Size': '5 nm', 'Transistors': '22,900 million', 'Density': '121.8M / mm²', 'Die Size': '188 mm²', 'DirectX': '12 Ultimate (12_2)', 'OpenGL': '4.6', 'OpenCL': '3.0', 'Vulkan': '1.3', 'Shader Model': '6.7', 'WDDM': '3.1', 'Tensor Cores': '4th Gen', 'RT Cores': '3rd Gen', 'Shading Units': '4608', 'TMUs': '144', 'ROPs': '48', 'SM Count': '36', 'L0 Cache': '', 'L1 Cache': '128 KB per SM', 'L2 Cache': '32768 KB', 'L3 Cache': '', 'Max. TDP': '165 W'}\n",
      "{'Pixel Rate': '118.1 GPixel/s', 'Texture Rate': '236.2 GTexel/s', 'FP16 (half)': '15.11 TFLOPS (1:1)', 'FP32 (float)': '15.11 TFLOPS', 'FP64 (double)': '236.2 GFLOPS (1:64)'}\n",
      "the iteration is 264\n",
      "{'Architecture': 'Ada Lovelace', 'Foundry': 'TSMC', 'Process Size': '5 nm', 'Transistors': '22,900 million', 'Density': '121.8M / mm²', 'Die Size': '188 mm²', 'DirectX': '12 Ultimate (12_2)', 'OpenGL': '4.6', 'OpenCL': '3.0', 'Vulkan': '1.3', 'Shader Model': '6.7', 'WDDM': '3.1', 'Tensor Cores': '4th Gen', 'RT Cores': '3rd Gen', 'Shading Units': '4608', 'TMUs': '144', 'ROPs': '48', 'SM Count': '36', 'L0 Cache': '', 'L1 Cache': '128 KB per SM', 'L2 Cache': '32768 KB', 'L3 Cache': '', 'Max. TDP': '165 W'}\n",
      "{'Pixel Rate': '121.7 GPixel/s', 'Texture Rate': '344.8 GTexel/s', 'FP16 (half)': '22.06 TFLOPS (1:1)', 'FP32 (float)': '22.06 TFLOPS', 'FP64 (double)': '344.8 GFLOPS (1:64)'}\n",
      "the iteration is 265\n",
      "{'Architecture': 'Ada Lovelace', 'Foundry': 'TSMC', 'Process Size': '5 nm', 'Transistors': '35,800 million', 'Density': '121.8M / mm²', 'Die Size': '294 mm²', 'DirectX': '12 Ultimate (12_2)', 'OpenGL': '4.6', 'OpenCL': '3.0', 'Vulkan': '1.3', 'Shader Model': '6.7', 'WDDM': '3.1', 'Tensor Cores': '4th Gen', 'RT Cores': '3rd Gen', 'Shading Units': '7680', 'TMUs': '240', 'ROPs': '80', 'SM Count': '60', 'L0 Cache': '', 'L1 Cache': '128 KB per SM', 'L2 Cache': '49152 KB', 'L3 Cache': '', 'Max. TDP': '285 W'}\n",
      "{'Pixel Rate': '121.7 GPixel/s', 'Texture Rate': '344.8 GTexel/s', 'FP16 (half)': '22.06 TFLOPS (1:1)', 'FP32 (float)': '22.06 TFLOPS', 'FP64 (double)': '344.8 GFLOPS (1:64)'}\n",
      "the iteration is 266\n",
      "{'Architecture': 'Ada Lovelace', 'Foundry': 'TSMC', 'Process Size': '5 nm', 'Transistors': '22,900 million', 'Density': '121.8M / mm²', 'Die Size': '188 mm²', 'DirectX': '12 Ultimate (12_2)', 'OpenGL': '4.6', 'OpenCL': '3.0', 'Vulkan': '1.3', 'Shader Model': '6.7', 'WDDM': '3.1', 'Tensor Cores': '4th Gen', 'RT Cores': '3rd Gen', 'Shading Units': '4608', 'TMUs': '144', 'ROPs': '48', 'SM Count': '36', 'L0 Cache': '', 'L1 Cache': '128 KB per SM', 'L2 Cache': '32768 KB', 'L3 Cache': '', 'Max. TDP': '165 W'}\n",
      "{'Pixel Rate': '121.7 GPixel/s', 'Texture Rate': '344.8 GTexel/s', 'FP16 (half)': '22.06 TFLOPS (1:1)', 'FP32 (float)': '22.06 TFLOPS', 'FP64 (double)': '344.8 GFLOPS (1:64)'}\n",
      "the iteration is 267\n",
      "{'Architecture': 'Ada Lovelace', 'Foundry': 'TSMC', 'Process Size': '5 nm', 'Transistors': '35,800 million', 'Density': '121.8M / mm²', 'Die Size': '294 mm²', 'DirectX': '12 Ultimate (12_2)', 'OpenGL': '4.6', 'OpenCL': '3.0', 'Vulkan': '1.3', 'Shader Model': '6.7', 'WDDM': '3.1', 'Tensor Cores': '4th Gen', 'RT Cores': '3rd Gen', 'Shading Units': '7680', 'TMUs': '240', 'ROPs': '80', 'SM Count': '60', 'L0 Cache': '', 'L1 Cache': '128 KB per SM', 'L2 Cache': '49152 KB', 'L3 Cache': '', 'Max. TDP': '285 W'}\n",
      "{'Pixel Rate': '158.4 GPixel/s', 'Texture Rate': '455.4 GTexel/s', 'FP16 (half)': '29.15 TFLOPS (1:1)', 'FP32 (float)': '29.15 TFLOPS', 'FP64 (double)': '455.4 GFLOPS (1:64)'}\n",
      "the iteration is 268\n",
      "{'Architecture': 'Ada Lovelace', 'Foundry': 'TSMC', 'Process Size': '5 nm', 'Transistors': '45,900 million', 'Density': '121.1M / mm²', 'Die Size': '379 mm²', 'DirectX': '12 Ultimate (12_2)', 'OpenGL': '4.6', 'OpenCL': '3.0', 'Vulkan': '1.3', 'Shader Model': '6.7', 'WDDM': '3.1', 'Tensor Cores': '4th Gen', 'RT Cores': '3rd Gen', 'Shading Units': '10240', 'TMUs': '320', 'ROPs': '112', 'SM Count': '80', 'L0 Cache': '', 'L1 Cache': '128 KB per SM', 'L2 Cache': '65536 KB', 'L3 Cache': '', 'Max. TDP': '320 W'}\n",
      "{'Pixel Rate': '158.4 GPixel/s', 'Texture Rate': '455.4 GTexel/s', 'FP16 (half)': '29.15 TFLOPS (1:1)', 'FP32 (float)': '29.15 TFLOPS', 'FP64 (double)': '455.4 GFLOPS (1:64)'}\n",
      "the iteration is 269\n",
      "{'Architecture': 'Ada Lovelace', 'Foundry': 'TSMC', 'Process Size': '5 nm', 'Transistors': '35,800 million', 'Density': '121.8M / mm²', 'Die Size': '294 mm²', 'DirectX': '12 Ultimate (12_2)', 'OpenGL': '4.6', 'OpenCL': '3.0', 'Vulkan': '1.3', 'Shader Model': '6.7', 'WDDM': '3.1', 'Tensor Cores': '4th Gen', 'RT Cores': '3rd Gen', 'Shading Units': '7680', 'TMUs': '240', 'ROPs': '80', 'SM Count': '60', 'L0 Cache': '', 'L1 Cache': '128 KB per SM', 'L2 Cache': '49152 KB', 'L3 Cache': '', 'Max. TDP': '285 W'}\n",
      "{'Pixel Rate': '198.0 GPixel/s', 'Texture Rate': '554.4 GTexel/s', 'FP16 (half)': '35.48 TFLOPS (1:1)', 'FP32 (float)': '35.48 TFLOPS', 'FP64 (double)': '554.4 GFLOPS (1:64)'}\n",
      "the iteration is 270\n",
      "{'Architecture': 'Ada Lovelace', 'Foundry': 'TSMC', 'Process Size': '5 nm', 'Transistors': '35,800 million', 'Density': '121.8M / mm²', 'Die Size': '294 mm²', 'DirectX': '12 Ultimate (12_2)', 'OpenGL': '4.6', 'OpenCL': '3.0', 'Vulkan': '1.3', 'Shader Model': '6.7', 'WDDM': '3.1', 'Tensor Cores': '4th Gen', 'RT Cores': '3rd Gen', 'Shading Units': '7680', 'TMUs': '240', 'ROPs': '80', 'SM Count': '60', 'L0 Cache': '', 'L1 Cache': '128 KB per SM', 'L2 Cache': '49152 KB', 'L3 Cache': '', 'Max. TDP': '285 W'}\n",
      "{'Pixel Rate': '208.8 GPixel/s', 'Texture Rate': '626.4 GTexel/s', 'FP16 (half)': '40.09 TFLOPS (1:1)', 'FP32 (float)': '40.09 TFLOPS', 'FP64 (double)': '626.4 GFLOPS (1:64)'}\n",
      "the iteration is 271\n",
      "{'Architecture': 'Ada Lovelace', 'Foundry': 'TSMC', 'Process Size': '5 nm', 'Transistors': '45,900 million', 'Density': '121.1M / mm²', 'Die Size': '379 mm²', 'DirectX': '12 Ultimate (12_2)', 'OpenGL': '4.6', 'OpenCL': '3.0', 'Vulkan': '1.3', 'Shader Model': '6.7', 'WDDM': '3.1', 'Tensor Cores': '4th Gen', 'RT Cores': '3rd Gen', 'Shading Units': '10240', 'TMUs': '320', 'ROPs': '112', 'SM Count': '80', 'L0 Cache': '', 'L1 Cache': '128 KB per SM', 'L2 Cache': '65536 KB', 'L3 Cache': '', 'Max. TDP': '320 W'}\n",
      "{'Pixel Rate': '250.6 GPixel/s', 'Texture Rate': '689.0 GTexel/s', 'FP16 (half)': '44.10 TFLOPS (1:1)', 'FP32 (float)': '44.10 TFLOPS', 'FP64 (double)': '689.0 GFLOPS (1:64)'}\n",
      "the iteration is 272\n",
      "{'Architecture': 'Ada Lovelace', 'Foundry': 'TSMC', 'Process Size': '5 nm', 'Transistors': '35,800 million', 'Density': '121.8M / mm²', 'Die Size': '294 mm²', 'DirectX': '12 Ultimate (12_2)', 'OpenGL': '4.6', 'OpenCL': '3.0', 'Vulkan': '1.3', 'Shader Model': '6.7', 'WDDM': '3.1', 'Tensor Cores': '4th Gen', 'RT Cores': '3rd Gen', 'Shading Units': '7680', 'TMUs': '240', 'ROPs': '80', 'SM Count': '60', 'L0 Cache': '', 'L1 Cache': '128 KB per SM', 'L2 Cache': '49152 KB', 'L3 Cache': '', 'Max. TDP': '285 W'}\n",
      "{'Pixel Rate': '208.8 GPixel/s', 'Texture Rate': '626.4 GTexel/s', 'FP16 (half)': '40.09 TFLOPS (1:1)', 'FP32 (float)': '40.09 TFLOPS', 'FP64 (double)': '626.4 GFLOPS (1:64)'}\n",
      "the iteration is 273\n",
      "{'Architecture': 'Ada Lovelace', 'Foundry': 'TSMC', 'Process Size': '5 nm', 'Transistors': '45,900 million', 'Density': '121.1M / mm²', 'Die Size': '379 mm²', 'DirectX': '12 Ultimate (12_2)', 'OpenGL': '4.6', 'OpenCL': '3.0', 'Vulkan': '1.3', 'Shader Model': '6.7', 'WDDM': '3.1', 'Tensor Cores': '4th Gen', 'RT Cores': '3rd Gen', 'Shading Units': '10240', 'TMUs': '320', 'ROPs': '112', 'SM Count': '80', 'L0 Cache': '', 'L1 Cache': '128 KB per SM', 'L2 Cache': '65536 KB', 'L3 Cache': '', 'Max. TDP': '320 W'}\n",
      "{'Pixel Rate': '280.6 GPixel/s', 'Texture Rate': '761.5 GTexel/s', 'FP16 (half)': '48.74 TFLOPS (1:1)', 'FP32 (float)': '48.74 TFLOPS', 'FP64 (double)': '761.5 GFLOPS (1:64)'}\n",
      "the iteration is 274\n",
      "{'Architecture': 'Ada Lovelace', 'Foundry': 'TSMC', 'Process Size': '5 nm', 'Transistors': '45,900 million', 'Density': '121.1M / mm²', 'Die Size': '379 mm²', 'DirectX': '12 Ultimate (12_2)', 'OpenGL': '4.6', 'OpenCL': '3.0', 'Vulkan': '1.3', 'Shader Model': '6.7', 'WDDM': '3.1', 'Tensor Cores': '4th Gen', 'RT Cores': '3rd Gen', 'Shading Units': '10240', 'TMUs': '320', 'ROPs': '112', 'SM Count': '80', 'L0 Cache': '', 'L1 Cache': '128 KB per SM', 'L2 Cache': '65536 KB', 'L3 Cache': '', 'Max. TDP': '320 W'}\n",
      "{'Pixel Rate': '285.6 GPixel/s', 'Texture Rate': '816.0 GTexel/s', 'FP16 (half)': '52.22 TFLOPS (1:1)', 'FP32 (float)': '52.22 TFLOPS', 'FP64 (double)': '816.0 GFLOPS (1:64)'}\n",
      "the iteration is 275\n",
      "{'Architecture': 'Ada Lovelace', 'Foundry': 'TSMC', 'Process Size': '5 nm', 'Transistors': '76,300 million', 'Density': '125.3M / mm²', 'Die Size': '609 mm²', 'DirectX': '12 Ultimate (12_2)', 'OpenGL': '4.6', 'OpenCL': '3.0', 'Vulkan': '1.3', 'Shader Model': '6.7', 'WDDM': '3.1', 'Tensor Cores': '4th Gen', 'RT Cores': '3rd Gen', 'Shading Units': '18432', 'TMUs': '576', 'ROPs': '192', 'SM Count': '144', 'L0 Cache': '', 'L1 Cache': '128 KB per SM', 'L2 Cache': '98304 KB', 'L3 Cache': '', 'Max. TDP': '800 W'}\n",
      "{'Pixel Rate': '345.6 GPixel/s', 'Texture Rate': '1,056 GTexel/s', 'FP16 (half)': '67.58 TFLOPS (1:1)', 'FP32 (float)': '67.58 TFLOPS', 'FP64 (double)': '1,056 GFLOPS (1:64)'}\n",
      "the iteration is 276\n",
      "{'Architecture': 'Ada Lovelace', 'Foundry': 'TSMC', 'Process Size': '5 nm', 'Transistors': '76,300 million', 'Density': '125.3M / mm²', 'Die Size': '609 mm²', 'DirectX': '12 Ultimate (12_2)', 'OpenGL': '4.6', 'OpenCL': '3.0', 'Vulkan': '1.3', 'Shader Model': '6.7', 'WDDM': '3.1', 'Tensor Cores': '4th Gen', 'RT Cores': '3rd Gen', 'Shading Units': '18432', 'TMUs': '576', 'ROPs': '192', 'SM Count': '144', 'L0 Cache': '', 'L1 Cache': '128 KB per SM', 'L2 Cache': '98304 KB', 'L3 Cache': '', 'Max. TDP': '800 W'}\n",
      "{'Pixel Rate': '443.5 GPixel/s', 'Texture Rate': '1,149 GTexel/s', 'FP16 (half)': '73.54 TFLOPS (1:1)', 'FP32 (float)': '73.54 TFLOPS', 'FP64 (double)': '1,149 GFLOPS (1:64)'}\n",
      "the iteration is 277\n",
      "{'Architecture': 'Ada Lovelace', 'Foundry': 'TSMC', 'Process Size': '5 nm', 'Transistors': '76,300 million', 'Density': '125.3M / mm²', 'Die Size': '609 mm²', 'DirectX': '12 Ultimate (12_2)', 'OpenGL': '4.6', 'OpenCL': '3.0', 'Vulkan': '1.3', 'Shader Model': '6.7', 'WDDM': '3.1', 'Tensor Cores': '4th Gen', 'RT Cores': '3rd Gen', 'Shading Units': '18432', 'TMUs': '576', 'ROPs': '192', 'SM Count': '144', 'L0 Cache': '', 'L1 Cache': '128 KB per SM', 'L2 Cache': '98304 KB', 'L3 Cache': '', 'Max. TDP': '800 W'}\n",
      "{'Pixel Rate': '443.5 GPixel/s', 'Texture Rate': '1,290 GTexel/s', 'FP16 (half)': '82.58 TFLOPS (1:1)', 'FP32 (float)': '82.58 TFLOPS', 'FP64 (double)': '1,290 GFLOPS (1:64)'}\n",
      "the iteration is 278\n",
      "{'Architecture': 'Ada Lovelace', 'Foundry': 'TSMC', 'Process Size': '5 nm', 'Transistors': '76,300 million', 'Density': '125.3M / mm²', 'Die Size': '609 mm²', 'DirectX': '12 Ultimate (12_2)', 'OpenGL': '4.6', 'OpenCL': '3.0', 'Vulkan': '1.3', 'Shader Model': '6.7', 'WDDM': '3.1', 'Tensor Cores': '4th Gen', 'RT Cores': '3rd Gen', 'Shading Units': '18432', 'TMUs': '576', 'ROPs': '192', 'SM Count': '144', 'L0 Cache': '', 'L1 Cache': '128 KB per SM', 'L2 Cache': '98304 KB', 'L3 Cache': '', 'Max. TDP': '800 W'}\n",
      "{'Pixel Rate': '492.5 GPixel/s', 'Texture Rate': '1,457 GTexel/s', 'FP16 (half)': '93.24 TFLOPS (1:1)', 'FP32 (float)': '93.24 TFLOPS', 'FP64 (double)': '1,457 GFLOPS (1:64)'}\n",
      "the iteration is 279\n",
      "{'Architecture': 'Ada Lovelace', 'Foundry': 'TSMC', 'Process Size': '5 nm', 'Transistors': '76,300 million', 'Density': '125.3M / mm²', 'Die Size': '609 mm²', 'DirectX': '12 Ultimate (12_2)', 'OpenGL': '4.6', 'OpenCL': '3.0', 'Vulkan': '1.3', 'Shader Model': '6.7', 'WDDM': '3.1', 'Tensor Cores': '4th Gen', 'RT Cores': '3rd Gen', 'Shading Units': '18432', 'TMUs': '576', 'ROPs': '192', 'SM Count': '144', 'L0 Cache': '', 'L1 Cache': '128 KB per SM', 'L2 Cache': '98304 KB', 'L3 Cache': '', 'Max. TDP': '800 W'}\n",
      "{'Pixel Rate': '483.8 GPixel/s', 'Texture Rate': '1,452 GTexel/s', 'FP16 (half)': '92.90 TFLOPS (1:1)', 'FP32 (float)': '92.90 TFLOPS', 'FP64 (double)': '1,452 GFLOPS (1:64)'}\n",
      "Updated dataset saved to Updated_GPU_Dataset279_Nvidia.xlsx\n"
     ]
    }
   ],
   "source": [
    "\n",
    "# Iterate over the DataFrame and scrape details for each GPU\n",
    "print(f'the start iteration is {iteration}')\n",
    "print(f'the start index is {start_index}')\n",
    "for index, row in gpu_data.loc[start_index:].iterrows():\n",
    "    iteration += 1\n",
    "    print(f\"the iteration is {iteration}\")\n",
    "    time.sleep(random.randint(2,8)) ## to prevent the website from blocking the request\n",
    "    chip_url = row['Chip URL']\n",
    "    gpu_url = row['GPU URL']\n",
    "    chip_details = scrape_gpu__chip_details(chip_url)\n",
    "    gpu_details = scrape_gpu__perf_details(gpu_url)\n",
    "    \n",
    "    if not chip_details[\"Architecture\"]: # check f the HTTP req failed\n",
    "        updated_file_path = f'Updated_GPU_Dataset_{iteration}_Nvidia.xlsx' ## saves the work halfway through the iteration\n",
    "        gpu_data.to_excel(updated_file_path, index=False)\n",
    "        print(f\"Updated dataset saved to {updated_file_path}\")\n",
    "        start_index = iteration-1 ##update the start index \n",
    "        iteration = iteration-1 ## update the iteration to last full iteration\n",
    "        print(f\"the start index is {start_index}\")\n",
    "        raise SystemExit(\"Stopping execution of this cell.\")\n",
    "    \n",
    "    if not gpu_details[\"Pixel Rate\"]: # check f the HTTP req failed\n",
    "        updated_file_path = f'Updated_GPU_Dataset_{iteration}_Nvidia.xlsx' ## saves the work halfway through the iteration\n",
    "        gpu_data.to_excel(updated_file_path, index=False)\n",
    "        print(f\"Updated dataset saved to {updated_file_path}\")\n",
    "        start_index = iteration-1 ##update the start index \n",
    "        iteration = iteration-1 ## update the iteration to last full iteration\n",
    "        print(f\"the start index is {start_index}\")\n",
    "        raise SystemExit(\"Stopping execution of this cell.\")\n",
    "    \n",
    "    for key, value in chip_details.items(): ## append the data to the dataframe\n",
    "        gpu_data.at[index, key] = value\n",
    "    for key, value in  gpu_details.items():\n",
    "        gpu_data.at[index, key] = value\n",
    "  \n",
    "\n",
    "\n",
    "\n",
    "# Save the updated DataFrame to a new Excel file once all done\n",
    "updated_file_path = f'Updated_GPU_Dataset{iteration}_Nvidia.xlsx'\n",
    "gpu_data.to_excel(updated_file_path, index=False)\n",
    "print(f\"Updated dataset saved to {updated_file_path}\")"
   ]
  },
  {
   "cell_type": "code",
   "execution_count": null,
   "metadata": {},
   "outputs": [],
   "source": []
  },
  {
   "cell_type": "markdown",
   "metadata": {},
   "source": []
  },
  {
   "cell_type": "code",
   "execution_count": null,
   "metadata": {},
   "outputs": [],
   "source": []
  },
  {
   "cell_type": "code",
   "execution_count": null,
   "metadata": {},
   "outputs": [],
   "source": []
  }
 ],
 "metadata": {
  "kernelspec": {
   "display_name": "Python 3",
   "language": "python",
   "name": "python3"
  },
  "language_info": {
   "codemirror_mode": {
    "name": "ipython",
    "version": 3
   },
   "file_extension": ".py",
   "mimetype": "text/x-python",
   "name": "python",
   "nbconvert_exporter": "python",
   "pygments_lexer": "ipython3",
   "version": "3.11.9"
  }
 },
 "nbformat": 4,
 "nbformat_minor": 2
}

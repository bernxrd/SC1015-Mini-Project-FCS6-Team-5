{
 "cells": [
  {
   "cell_type": "code",
   "execution_count": 2,
   "metadata": {},
   "outputs": [
    {
     "data": {
      "text/html": [
       "<div>\n",
       "<style scoped>\n",
       "    .dataframe tbody tr th:only-of-type {\n",
       "        vertical-align: middle;\n",
       "    }\n",
       "\n",
       "    .dataframe tbody tr th {\n",
       "        vertical-align: top;\n",
       "    }\n",
       "\n",
       "    .dataframe thead th {\n",
       "        text-align: right;\n",
       "    }\n",
       "</style>\n",
       "<table border=\"1\" class=\"dataframe\">\n",
       "  <thead>\n",
       "    <tr style=\"text-align: right;\">\n",
       "      <th></th>\n",
       "      <th>Generation</th>\n",
       "      <th>Product Name</th>\n",
       "      <th>GPU URL</th>\n",
       "      <th>GPU Chip</th>\n",
       "      <th>Chip URL</th>\n",
       "      <th>Released</th>\n",
       "      <th>Bus</th>\n",
       "      <th>Memory</th>\n",
       "      <th>GPU clock</th>\n",
       "      <th>Memory clock</th>\n",
       "      <th>Shaders / TMUs / ROPs</th>\n",
       "    </tr>\n",
       "  </thead>\n",
       "  <tbody>\n",
       "    <tr>\n",
       "      <th>0</th>\n",
       "      <td>Northern Islands (HD 6200)</td>\n",
       "      <td>Radeon HD 6230</td>\n",
       "      <td>https://www.techpowerup.com/gpu-specs/radeon-h...</td>\n",
       "      <td>Park</td>\n",
       "      <td>https://www.techpowerup.com/gpu-specs/amd-park...</td>\n",
       "      <td>Jul 2nd, 2011</td>\n",
       "      <td>PCIe 2.0 x16</td>\n",
       "      <td>512 MB, DDR2, 64 bit</td>\n",
       "      <td>650 MHz</td>\n",
       "      <td>667 MHz</td>\n",
       "      <td>80 / 8 / 4</td>\n",
       "    </tr>\n",
       "    <tr>\n",
       "      <th>1</th>\n",
       "      <td>Northern Islands (HD 6200)</td>\n",
       "      <td>Radeon HD 6250</td>\n",
       "      <td>https://www.techpowerup.com/gpu-specs/radeon-h...</td>\n",
       "      <td>Cedar</td>\n",
       "      <td>https://www.techpowerup.com/gpu-specs/amd-ceda...</td>\n",
       "      <td>Jan 31st, 2011</td>\n",
       "      <td>PCIe 2.0 x16</td>\n",
       "      <td>512 MB, GDDR3, 64 bit</td>\n",
       "      <td>650 MHz</td>\n",
       "      <td>500 MHz</td>\n",
       "      <td>80 / 8 / 4</td>\n",
       "    </tr>\n",
       "    <tr>\n",
       "      <th>2</th>\n",
       "      <td>Northern Islands (HD 6200)</td>\n",
       "      <td>Radeon HD 6290</td>\n",
       "      <td>https://www.techpowerup.com/gpu-specs/radeon-h...</td>\n",
       "      <td>Cedar</td>\n",
       "      <td>https://www.techpowerup.com/gpu-specs/amd-ceda...</td>\n",
       "      <td>Dec 4th, 2011</td>\n",
       "      <td>PCIe 2.0 x16</td>\n",
       "      <td>1024 MB, GDDR3, 64 bit</td>\n",
       "      <td>650 MHz</td>\n",
       "      <td>800 MHz</td>\n",
       "      <td>80 / 8 / 4</td>\n",
       "    </tr>\n",
       "    <tr>\n",
       "      <th>3</th>\n",
       "      <td>Northern Islands (HD 6300)</td>\n",
       "      <td>Radeon HD 6350</td>\n",
       "      <td>https://www.techpowerup.com/gpu-specs/radeon-h...</td>\n",
       "      <td>Cedar</td>\n",
       "      <td>https://www.techpowerup.com/gpu-specs/amd-ceda...</td>\n",
       "      <td>Feb 7th, 2011</td>\n",
       "      <td>PCIe 2.0 x16</td>\n",
       "      <td>512 MB, GDDR3, 64 bit</td>\n",
       "      <td>650 MHz</td>\n",
       "      <td>500 MHz</td>\n",
       "      <td>80 / 8 / 4</td>\n",
       "    </tr>\n",
       "    <tr>\n",
       "      <th>4</th>\n",
       "      <td>Northern Islands (HD 6300)</td>\n",
       "      <td>Radeon HD 6390</td>\n",
       "      <td>https://www.techpowerup.com/gpu-specs/radeon-h...</td>\n",
       "      <td>Redwood</td>\n",
       "      <td>https://www.techpowerup.com/gpu-specs/amd-redw...</td>\n",
       "      <td>Jul 4th, 2011</td>\n",
       "      <td>PCIe 2.0 x16</td>\n",
       "      <td>1024 MB, DDR2, 128 bit</td>\n",
       "      <td>550 MHz</td>\n",
       "      <td>500 MHz</td>\n",
       "      <td>320 / 16 / 8</td>\n",
       "    </tr>\n",
       "  </tbody>\n",
       "</table>\n",
       "</div>"
      ],
      "text/plain": [
       "                   Generation    Product Name  \\\n",
       "0  Northern Islands (HD 6200)  Radeon HD 6230   \n",
       "1  Northern Islands (HD 6200)  Radeon HD 6250   \n",
       "2  Northern Islands (HD 6200)  Radeon HD 6290   \n",
       "3  Northern Islands (HD 6300)  Radeon HD 6350   \n",
       "4  Northern Islands (HD 6300)  Radeon HD 6390   \n",
       "\n",
       "                                             GPU URL GPU Chip  \\\n",
       "0  https://www.techpowerup.com/gpu-specs/radeon-h...     Park   \n",
       "1  https://www.techpowerup.com/gpu-specs/radeon-h...    Cedar   \n",
       "2  https://www.techpowerup.com/gpu-specs/radeon-h...    Cedar   \n",
       "3  https://www.techpowerup.com/gpu-specs/radeon-h...    Cedar   \n",
       "4  https://www.techpowerup.com/gpu-specs/radeon-h...  Redwood   \n",
       "\n",
       "                                            Chip URL        Released  \\\n",
       "0  https://www.techpowerup.com/gpu-specs/amd-park...   Jul 2nd, 2011   \n",
       "1  https://www.techpowerup.com/gpu-specs/amd-ceda...  Jan 31st, 2011   \n",
       "2  https://www.techpowerup.com/gpu-specs/amd-ceda...   Dec 4th, 2011   \n",
       "3  https://www.techpowerup.com/gpu-specs/amd-ceda...   Feb 7th, 2011   \n",
       "4  https://www.techpowerup.com/gpu-specs/amd-redw...   Jul 4th, 2011   \n",
       "\n",
       "            Bus                  Memory GPU clock Memory clock  \\\n",
       "0  PCIe 2.0 x16    512 MB, DDR2, 64 bit   650 MHz      667 MHz   \n",
       "1  PCIe 2.0 x16   512 MB, GDDR3, 64 bit   650 MHz      500 MHz   \n",
       "2  PCIe 2.0 x16  1024 MB, GDDR3, 64 bit   650 MHz      800 MHz   \n",
       "3  PCIe 2.0 x16   512 MB, GDDR3, 64 bit   650 MHz      500 MHz   \n",
       "4  PCIe 2.0 x16  1024 MB, DDR2, 128 bit   550 MHz      500 MHz   \n",
       "\n",
       "  Shaders / TMUs / ROPs  \n",
       "0            80 / 8 / 4  \n",
       "1            80 / 8 / 4  \n",
       "2            80 / 8 / 4  \n",
       "3            80 / 8 / 4  \n",
       "4          320 / 16 / 8  "
      ]
     },
     "execution_count": 2,
     "metadata": {},
     "output_type": "execute_result"
    }
   ],
   "source": [
    "import pandas as pd\n",
    "\n",
    "# Load the Excel file to see its content and structure\n",
    "file_path = r\"C:\\Users\\raysh\\OneDrive - Nanyang Technological University\\Year 1 Sem 2\\SC1015 Intro to Data Sci and AI\\Mini Project\\GPU Dataset-AMD.xlsm\"\n",
    "gpu_data = pd.read_excel(file_path)\n",
    "\n",
    "# Display the first few rows of the dataframe to understand its structure\n",
    "gpu_data.head()\n"
   ]
  },
  {
   "cell_type": "code",
   "execution_count": 3,
   "metadata": {},
   "outputs": [],
   "source": [
    "\n",
    "from bs4 import BeautifulSoup\n",
    "import requests\n",
    "import time \n",
    "import random"
   ]
  },
  {
   "cell_type": "markdown",
   "metadata": {},
   "source": [
    "### Define a function to scrape for the GPU Chip"
   ]
  },
  {
   "cell_type": "code",
   "execution_count": 4,
   "metadata": {},
   "outputs": [],
   "source": [
    "def scrape_gpu__chip_details(url):\n",
    "    try:\n",
    "        response = requests.get(url)\n",
    "        soup = BeautifulSoup(response.content, 'html.parser')\n",
    "\n",
    "        chip_details = {\n",
    "            \"Architecture\": \"\",\n",
    "            \"Foundry\": \"\",\n",
    "            \"Process Size\": \"\",\n",
    "            \"Transistors\": \"\",\n",
    "            \"Density\": \"\",\n",
    "            \"Die Size\": \"\",\n",
    "            \"DirectX\": \"\",\n",
    "            \"OpenGL\": \"\",\n",
    "            \"OpenCL\": \"\",\n",
    "            \"Vulkan\": \"\",\n",
    "            \"Shader Model\": \"\",\n",
    "            \"WDDM\": \"\",\n",
    "            \"Tensor Cores\": \"\",\n",
    "            \"RT Cores\": \"\",\n",
    "            \"Shading Units\": \"\",\n",
    "            \"TMUs\": \"\",\n",
    "            \"ROPs\": \"\",\n",
    "            \"SM Count\": \"\",\n",
    "            \"L0 Cache\": \"\",\n",
    "            \"L1 Cache\": \"\",\n",
    "            \"L2 Cache\": \"\",\n",
    "            \"L3 Cache\": \"\",\n",
    "            \"Max. TDP\": \"\"\n",
    "        }\n",
    "        \n",
    "        # Extracting information based on the HTML structure\n",
    "        for key in chip_details.keys():\n",
    "            detail = soup.find(\"dt\", text=lambda x: x and x.strip() == key)\n",
    "            if detail and detail.find_next_sibling(\"dd\"):\n",
    "                chip_details[key] = detail.find_next_sibling(\"dd\").text.strip()\n",
    "        \n",
    "        print(chip_details)\n",
    "        return chip_details\n",
    "    \n",
    "    except Exception as e:\n",
    "        print(f\"Error scraping {url}: {e}\")\n",
    "        return {key: \"\" for key in chip_details.keys()}\n"
   ]
  },
  {
   "cell_type": "markdown",
   "metadata": {},
   "source": [
    "### Define a function to scrape the GPU perf"
   ]
  },
  {
   "cell_type": "code",
   "execution_count": 5,
   "metadata": {},
   "outputs": [],
   "source": [
    "def scrape_gpu__perf_details(url):\n",
    "    try:\n",
    "        response = requests.get(url)\n",
    "        soup = BeautifulSoup(response.content, 'html.parser')\n",
    "\n",
    "        gpu_details = {\n",
    "            \"Pixel Rate\": \"\",\n",
    "            \"Texture Rate\": \"\",\n",
    "            \"FP16 (half)\": \"\",\n",
    "            \"FP32 (float)\": \"\",\n",
    "            \"FP64 (double)\": \"\"\n",
    "        }\n",
    "        \n",
    "        # Extracting information based on the HTML structure\n",
    "        for key in gpu_details.keys():\n",
    "            detail = soup.find(\"dt\", text=lambda x: x and x.strip() == key)\n",
    "            if detail and detail.find_next_sibling(\"dd\"):\n",
    "                gpu_details[key] = detail.find_next_sibling(\"dd\").text.strip()\n",
    "        \n",
    "        print(gpu_details)\n",
    "        return gpu_details\n",
    "    \n",
    "    except Exception as e:\n",
    "        print(f\"Error scraping {url}: {e}\")\n",
    "        return {key: \"\" for key in gpu_details.keys()}\n"
   ]
  },
  {
   "cell_type": "markdown",
   "metadata": {},
   "source": [
    "### PROOF OF CONCEPT\n"
   ]
  },
  {
   "cell_type": "code",
   "execution_count": 30,
   "metadata": {},
   "outputs": [
    {
     "name": "stderr",
     "output_type": "stream",
     "text": [
      "C:\\Users\\raysh\\AppData\\Local\\Temp\\ipykernel_35776\\904242948.py:34: DeprecationWarning: The 'text' argument to find()-type methods is deprecated. Use 'string' instead.\n",
      "  detail = soup.find(\"dt\", text=lambda x: x and x.strip() == key)\n"
     ]
    },
    {
     "name": "stdout",
     "output_type": "stream",
     "text": [
      "{'Architecture': 'TeraScale 2', 'Foundry': 'TSMC', 'Process Size': '40 nm', 'Transistors': '292 million', 'Density': '4.9M / mm²', 'Die Size': '59 mm²', 'DirectX': '11.2 (11_0)', 'OpenGL': '4.4', 'OpenCL': '1.2', 'Vulkan': 'N/A', 'Shader Model': '5.0', 'WDDM': '1.3', 'Tensor Cores': '', 'RT Cores': '', 'Shading Units': '80', 'TMUs': '8', 'ROPs': '4', 'SM Count': '', 'L0 Cache': '', 'L1 Cache': '8 KB per CU', 'L2 Cache': '128 KB', 'L3 Cache': '', 'Max. TDP': '19 W'}\n"
     ]
    },
    {
     "name": "stderr",
     "output_type": "stream",
     "text": [
      "C:\\Users\\raysh\\AppData\\Local\\Temp\\ipykernel_35776\\1156731775.py:16: DeprecationWarning: The 'text' argument to find()-type methods is deprecated. Use 'string' instead.\n",
      "  detail = soup.find(\"dt\", text=lambda x: x and x.strip() == key)\n"
     ]
    },
    {
     "name": "stdout",
     "output_type": "stream",
     "text": [
      "{'Pixel Rate': '2.600 GPixel/s', 'Texture Rate': '5.200 GTexel/s', 'FP16 (half)': '', 'FP32 (float)': '104.0 GFLOPS', 'FP64 (double)': ''}\n",
      "Updated dataset saved to Updated_GPU_Dataset_test.xlsx\n"
     ]
    }
   ],
   "source": [
    "\n",
    "# Display the first few rows of the dataframe to understand its structure\n",
    "gpu_data.head()\n",
    "\n",
    "\n",
    "# Iterate over the DataFrame and scrape details for each GPU\n",
    "chip_url = 'https://www.techpowerup.com/gpu-specs/amd-park.g866'\n",
    "gpu_url = 'https://www.techpowerup.com/gpu-specs/radeon-hd-6230.c2070'\n",
    "chip_details = scrape_gpu__chip_details(chip_url)\n",
    "gpu_details = scrape_gpu__perf_details(gpu_url)\n",
    "if not chip_details[\"Architecture\"]: # check f the HTTP req failed\n",
    "    raise SystemExit(\"Stopping execution of this cell.\")\n",
    "    \n",
    "if not gpu_details[\"Pixel Rate\"]: # check f the HTTP req failed\n",
    "    raise SystemExit(\"Stopping execution of this cell.\")\n",
    "    \n",
    "for key, value in chip_details.items():\n",
    "    gpu_data.at[0, key] = value\n",
    "for key, value in gpu_details.items():\n",
    "    gpu_data.at[0, key] = value\n",
    "\n",
    "# Save the updated DataFrame to a new Excel file\n",
    "updated_file_path = 'Updated_GPU_Dataset_test.xlsx'\n",
    "gpu_data.to_excel(updated_file_path, index=False)\n",
    "\n",
    "print(f\"Updated dataset saved to {updated_file_path}\")"
   ]
  },
  {
   "cell_type": "markdown",
   "metadata": {},
   "source": [
    "### ACTUAL CODE\n"
   ]
  },
  {
   "cell_type": "code",
   "execution_count": 7,
   "metadata": {},
   "outputs": [],
   "source": [
    "\n",
    "iteration = 109\n",
    "start_index = 109\n"
   ]
  },
  {
   "cell_type": "code",
   "execution_count": 32,
   "metadata": {},
   "outputs": [
    {
     "name": "stdout",
     "output_type": "stream",
     "text": [
      "the start iteration is 217\n",
      "the start index is 217\n",
      "the iteration is 218\n"
     ]
    },
    {
     "name": "stderr",
     "output_type": "stream",
     "text": [
      "C:\\Users\\raysh\\AppData\\Local\\Temp\\ipykernel_35776\\904242948.py:34: DeprecationWarning: The 'text' argument to find()-type methods is deprecated. Use 'string' instead.\n",
      "  detail = soup.find(\"dt\", text=lambda x: x and x.strip() == key)\n"
     ]
    },
    {
     "name": "stdout",
     "output_type": "stream",
     "text": [
      "{'Architecture': 'GCN 5.0', 'Foundry': 'GlobalFoundries', 'Process Size': '14 nm', 'Transistors': '12,500 million', 'Density': '25.3M / mm²', 'Die Size': '495 mm²', 'DirectX': '12 (12_1)', 'OpenGL': '4.6', 'OpenCL': '2.1', 'Vulkan': '1.3', 'Shader Model': '6.7', 'WDDM': '3.1', 'Tensor Cores': '', 'RT Cores': '', 'Shading Units': '4096', 'TMUs': '256', 'ROPs': '64', 'SM Count': '', 'L0 Cache': '', 'L1 Cache': '16 KB per CU', 'L2 Cache': '4096 KB', 'L3 Cache': '', 'Max. TDP': '375 W'}\n"
     ]
    },
    {
     "name": "stderr",
     "output_type": "stream",
     "text": [
      "C:\\Users\\raysh\\AppData\\Local\\Temp\\ipykernel_35776\\1156731775.py:16: DeprecationWarning: The 'text' argument to find()-type methods is deprecated. Use 'string' instead.\n",
      "  detail = soup.find(\"dt\", text=lambda x: x and x.strip() == key)\n"
     ]
    },
    {
     "name": "stdout",
     "output_type": "stream",
     "text": [
      "{'Pixel Rate': '98.94 GPixel/s', 'Texture Rate': '395.8 GTexel/s', 'FP16 (half)': '25.33 TFLOPS (2:1)', 'FP32 (float)': '12.66 TFLOPS', 'FP64 (double)': '791.6 GFLOPS (1:16)'}\n",
      "the iteration is 219\n",
      "{'Architecture': 'GCN 5.0', 'Foundry': 'GlobalFoundries', 'Process Size': '14 nm', 'Transistors': '12,500 million', 'Density': '25.3M / mm²', 'Die Size': '495 mm²', 'DirectX': '12 (12_1)', 'OpenGL': '4.6', 'OpenCL': '2.1', 'Vulkan': '1.3', 'Shader Model': '6.7', 'WDDM': '3.1', 'Tensor Cores': '', 'RT Cores': '', 'Shading Units': '4096', 'TMUs': '256', 'ROPs': '64', 'SM Count': '', 'L0 Cache': '', 'L1 Cache': '16 KB per CU', 'L2 Cache': '4096 KB', 'L3 Cache': '', 'Max. TDP': '375 W'}\n",
      "{'Pixel Rate': '107.3 GPixel/s', 'Texture Rate': '429.3 GTexel/s', 'FP16 (half)': '27.48 TFLOPS (2:1)', 'FP32 (float)': '13.74 TFLOPS', 'FP64 (double)': '858.6 GFLOPS (1:16)'}\n",
      "Updated dataset saved to Updated_GPU_Dataset219_AMD.xlsx\n"
     ]
    }
   ],
   "source": [
    "\n",
    "# Iterate over the DataFrame and scrape details for each GPU\n",
    "print(f'the start iteration is {iteration}')\n",
    "print(f'the start index is {start_index}')\n",
    "for index, row in gpu_data.loc[start_index:].iterrows():\n",
    "    iteration += 1\n",
    "    print(f\"the iteration is {iteration}\")\n",
    "    time.sleep(random.randint(1,3)) ## to prevent the website from blocking the request\n",
    "    chip_url = row['Chip URL']\n",
    "    gpu_url = row['GPU URL']\n",
    "    chip_details = scrape_gpu__chip_details(chip_url)\n",
    "    gpu_details = scrape_gpu__perf_details(gpu_url)\n",
    "    \n",
    "    if not chip_details[\"Architecture\"]: # check f the HTTP req failed\n",
    "        updated_file_path = f'Updated_GPU_Dataset_{iteration}_AMD.xlsx' ## saves the work halfway through the iteration\n",
    "        gpu_data.to_excel(updated_file_path, index=False)\n",
    "        print(f\"Updated dataset saved to {updated_file_path}\")\n",
    "        start_index = iteration-1 ##update the start index \n",
    "        iteration = iteration-1 ## update the iteration to last full iteration\n",
    "        print(f\"the start index is {start_index}\")\n",
    "        raise SystemExit(\"Stopping execution of this cell.\")\n",
    "    \n",
    "    if not gpu_details[\"Pixel Rate\"]: # check f the HTTP req failed\n",
    "        updated_file_path = f'Updated_GPU_Dataset_{iteration}_AMD.xlsx' ## saves the work halfway through the iteration\n",
    "        gpu_data.to_excel(updated_file_path, index=False)\n",
    "        print(f\"Updated dataset saved to {updated_file_path}\")\n",
    "        start_index = iteration-1 ##update the start index \n",
    "        iteration = iteration-1 ## update the iteration to last full iteration\n",
    "        print(f\"the start index is {start_index}\")\n",
    "        raise SystemExit(\"Stopping execution of this cell.\")\n",
    "    \n",
    "    for key, value in chip_details.items(): ## append the data to the dataframe\n",
    "        gpu_data.at[index, key] = value\n",
    "    for key, value in  gpu_details.items():\n",
    "        gpu_data.at[index, key] = value\n",
    "  \n",
    "\n",
    "\n",
    "\n",
    "# Save the updated DataFrame to a new Excel file once all done\n",
    "updated_file_path = f'Updated_GPU_Dataset{iteration}_AMD.xlsx'\n",
    "gpu_data.to_excel(updated_file_path, index=False)\n",
    "print(f\"Updated dataset saved to {updated_file_path}\")"
   ]
  },
  {
   "cell_type": "code",
   "execution_count": null,
   "metadata": {},
   "outputs": [],
   "source": []
  },
  {
   "cell_type": "markdown",
   "metadata": {},
   "source": []
  },
  {
   "cell_type": "code",
   "execution_count": null,
   "metadata": {},
   "outputs": [],
   "source": []
  },
  {
   "cell_type": "code",
   "execution_count": null,
   "metadata": {},
   "outputs": [],
   "source": []
  }
 ],
 "metadata": {
  "kernelspec": {
   "display_name": "Python 3",
   "language": "python",
   "name": "python3"
  },
  "language_info": {
   "codemirror_mode": {
    "name": "ipython",
    "version": 3
   },
   "file_extension": ".py",
   "mimetype": "text/x-python",
   "name": "python",
   "nbconvert_exporter": "python",
   "pygments_lexer": "ipython3",
   "version": "3.11.9"
  }
 },
 "nbformat": 4,
 "nbformat_minor": 2
}
